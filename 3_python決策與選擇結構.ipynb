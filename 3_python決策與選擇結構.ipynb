{
  "nbformat": 4,
  "nbformat_minor": 0,
  "metadata": {
    "colab": {
      "name": "3_python決策與選擇結構.ipynb",
      "provenance": [],
      "authorship_tag": "ABX9TyPzHJbMOgSrI+0JnBtiJFP+",
      "include_colab_link": true
    },
    "kernelspec": {
      "name": "python3",
      "display_name": "Python 3"
    },
    "language_info": {
      "name": "python"
    }
  },
  "cells": [
    {
      "cell_type": "markdown",
      "metadata": {
        "id": "view-in-github",
        "colab_type": "text"
      },
      "source": [
        "<a href=\"https://colab.research.google.com/github/mastermarling/Python-04-25-2021-/blob/main/3_python%E6%B1%BA%E7%AD%96%E8%88%87%E9%81%B8%E6%93%87%E7%B5%90%E6%A7%8B.ipynb\" target=\"_parent\"><img src=\"https://colab.research.google.com/assets/colab-badge.svg\" alt=\"Open In Colab\"/></a>"
      ]
    },
    {
      "cell_type": "markdown",
      "metadata": {
        "id": "ArpeYM4ygKeQ"
      },
      "source": [
        "# python決策與選擇結構(SELECTION /DECISION)\n",
        "[1]if\n",
        "\n",
        "[2]if ...elsif\n",
        "\n",
        "[3]if ...else\n",
        "\n",
        "[4]if ...elsif ...else\n",
        "\n",
        "[5]各種判斷條件==> 善用 AND   OR\n",
        "\n",
        "[6]範例\n",
        "#[1]if ==>底下程式輸出為何?\n",
        "\n"
      ]
    },
    {
      "cell_type": "code",
      "metadata": {
        "colab": {
          "base_uri": "https://localhost:8080/"
        },
        "id": "O3A54KnmgIRn",
        "outputId": "8dafdc85-5f54-4abc-ff39-4c7dd9b904ea"
      },
      "source": [
        "a = 33\n",
        "b = 200\n",
        "\n",
        "if b > a:\n",
        "  print(\"b is greater than a\")"
      ],
      "execution_count": 1,
      "outputs": [
        {
          "output_type": "stream",
          "text": [
            "b is greater than a\n"
          ],
          "name": "stdout"
        }
      ]
    },
    {
      "cell_type": "code",
      "metadata": {
        "id": "X09wfVOaggvH"
      },
      "source": [
        "a = 33\n",
        "b = 20\n",
        "\n",
        "if b > a:\n",
        "  print(\"b is greater than a\")"
      ],
      "execution_count": 2,
      "outputs": []
    },
    {
      "cell_type": "markdown",
      "metadata": {
        "id": "ANwyyys4glCW"
      },
      "source": [
        "# [2]if ...elsif ==>底下程式輸出為何?\n"
      ]
    },
    {
      "cell_type": "code",
      "metadata": {
        "colab": {
          "base_uri": "https://localhost:8080/"
        },
        "id": "WZIIiE9NgjIY",
        "outputId": "2cfdf9c2-8030-499b-c27b-b124720d9783"
      },
      "source": [
        "a = 32\n",
        "b = 33\n",
        "\n",
        "if b > a:\n",
        "  print(\"b is greater than a\")\n",
        "elif a == b:\n",
        "  print(\"a and b are equal\")"
      ],
      "execution_count": 3,
      "outputs": [
        {
          "output_type": "stream",
          "text": [
            "b is greater than a\n"
          ],
          "name": "stdout"
        }
      ]
    },
    {
      "cell_type": "code",
      "metadata": {
        "colab": {
          "base_uri": "https://localhost:8080/"
        },
        "id": "6BuQI9Uogoee",
        "outputId": "9b0489bc-96d0-4710-b0ba-d9280da069e9"
      },
      "source": [
        "a = 33\n",
        "b = 33\n",
        "if b > a:\n",
        "  print(\"b is greater than a\")\n",
        "elif a == b:\n",
        "  print(\"a and b are equal\")"
      ],
      "execution_count": 4,
      "outputs": [
        {
          "output_type": "stream",
          "text": [
            "a and b are equal\n"
          ],
          "name": "stdout"
        }
      ]
    },
    {
      "cell_type": "code",
      "metadata": {
        "id": "mVWK1RX8grBW"
      },
      "source": [
        "a = 35\n",
        "b = 33\n",
        "\n",
        "if b > a:\n",
        "  print(\"b is greater than a\")\n",
        "elif a == b:\n",
        "  print(\"a and b are equal\")"
      ],
      "execution_count": 7,
      "outputs": []
    },
    {
      "cell_type": "markdown",
      "metadata": {
        "id": "22qL6q2ZgvEo"
      },
      "source": [
        "# 雙向判斷式（if⋯else）: 二選一｜一定要選的\n"
      ]
    },
    {
      "cell_type": "code",
      "metadata": {
        "colab": {
          "base_uri": "https://localhost:8080/"
        },
        "id": "xSU9cDo4gsqg",
        "outputId": "d254bebf-ab24-4981-e707-cde4532c6f39"
      },
      "source": [
        "a = 200\n",
        "b = 33\n",
        "\n",
        "if b > a:\n",
        "  print(\"b is greater than a\")\n",
        "else:\n",
        "  print(\"b is not greater than a\")"
      ],
      "execution_count": 6,
      "outputs": [
        {
          "output_type": "stream",
          "text": [
            "b is not greater than a\n"
          ],
          "name": "stdout"
        }
      ]
    },
    {
      "cell_type": "markdown",
      "metadata": {
        "id": "Cp4HOTPvg0W-"
      },
      "source": [
        "# [4]if ...elsif ...else 多選一｜一定要選的\n"
      ]
    },
    {
      "cell_type": "code",
      "metadata": {
        "colab": {
          "base_uri": "https://localhost:8080/"
        },
        "id": "mOti1unogzAv",
        "outputId": "c76b1bc9-1473-42b4-fce7-12ddd0934ce2"
      },
      "source": [
        "a = 200\n",
        "b = 33\n",
        "\n",
        "if b > a:\n",
        "  print(\"b is greater than a\")\n",
        "elif a == b:\n",
        "  print(\"a and b are equal\")\n",
        "else:\n",
        "  print(\"a is greater than b\")"
      ],
      "execution_count": 8,
      "outputs": [
        {
          "output_type": "stream",
          "text": [
            "a is greater than b\n"
          ],
          "name": "stdout"
        }
      ]
    },
    {
      "cell_type": "markdown",
      "metadata": {
        "id": "vslzTboVg51e"
      },
      "source": [
        "# [5]各種判斷條件 ==> 善用 AND OR\n",
        "判斷是否為閏年\n"
      ]
    },
    {
      "cell_type": "code",
      "metadata": {
        "colab": {
          "base_uri": "https://localhost:8080/"
        },
        "id": "zN-iHWNGg4Sh",
        "outputId": "6af452d4-3fe0-4ce2-cfea-2798e0a9fd34"
      },
      "source": [
        "year= eval(input(\"請輸入年\"))\n",
        "\n",
        "if ((year%400==0) or (year%4==0 and year%100!=0)):\n",
        "  print(\"{0} 是閏年\".format(year))\n",
        "else:\n",
        "  print(\"{0} 不是閏年\".format(year))"
      ],
      "execution_count": 9,
      "outputs": [
        {
          "output_type": "stream",
          "text": [
            "請輸入年2\n",
            "2 不是閏年\n"
          ],
          "name": "stdout"
        }
      ]
    },
    {
      "cell_type": "markdown",
      "metadata": {
        "id": "AtL41qeUhFvX"
      },
      "source": [
        "#[6]歲月匆匆程式開發 ==>先講 運算思維 再講程式語法\n",
        "\n",
        "問題簡述:\n",
        "\n",
        "輸入:年月日\n",
        "\n",
        "輸出:今年已經過了多少日"
      ]
    },
    {
      "cell_type": "code",
      "metadata": {
        "colab": {
          "base_uri": "https://localhost:8080/"
        },
        "id": "zjwD_fqQhBaH",
        "outputId": "c0895f71-9f0e-4b28-fd64-afc5b6d10ad1"
      },
      "source": [
        "year, month, day = eval(input(\"請輸入年月日\"))\n",
        "year, month, day\n",
        "day_month = [31, 28, 31, 30, 31, 30, 31, 31, 30, 31, 30, 31]\n",
        "\n",
        "if year%400==0 or (year%4==0 and year%100!=0):\t\n",
        "  day_month[1] = 29\n",
        "print(sum(day_month[:month-1])+day)"
      ],
      "execution_count": 15,
      "outputs": [
        {
          "output_type": "stream",
          "text": [
            "請輸入年月日2020, 1, 2\n",
            "2\n"
          ],
          "name": "stdout"
        }
      ]
    },
    {
      "cell_type": "markdown",
      "metadata": {
        "id": "FPee2GMniClw"
      },
      "source": [
        "#多向判斷式（if⋯elif⋯else）:收銀台程式開發[學生自己學習]\n",
        "百貨公司週年慶活動血拼大打折，\n",
        "\n",
        "吸引很多顧客上門，\n",
        "\n",
        "公司決定再加碼回饋客戶，\n",
        "\n",
        "\n",
        "只要客戶消費\n",
        "\n",
        "金額在 100000 元以上就打八折，\n",
        "\n",
        "金額在 50000 元以上就打八五折，\n",
        "\n",
        "金額在 30000 元以上就打九折，\n",
        "\n",
        "金額在 10000 元以上就打九五折，\n",
        "\n",
        "金額在 10000 元以下就不打折\n",
        "\n",
        "請幫該公司設計這個收銀台的程式，\n",
        "\n",
        "輸入顧客購買金額後，計算顧客應付的金錢。\n",
        "\n",
        "若輸入113234元顧客應付多少錢?\n"
      ]
    },
    {
      "cell_type": "code",
      "metadata": {
        "id": "eTkGcoKDiLem"
      },
      "source": [
        "money = int(input(\"請輸入購物金額：\"))\n",
        "\n",
        "if(money >= 10000):\n",
        "    if(money >= 100000):\n",
        "        print(money * 0.8, end=\" 元\\n\")\n",
        "    elif(money >= 50000):\n",
        "        print(money * 0.85, end=\" 元\\n\")\n",
        "    elif(money >= 30000):\n",
        "        print(money * 0.9, end=\" 元\\n\")\n",
        "    else:\n",
        "        print(money * 0.95, end=\" 元\\n\")\n",
        "else:\n",
        "    print(money, end=\" 元\\n\")"
      ],
      "execution_count": null,
      "outputs": []
    }
  ]
}