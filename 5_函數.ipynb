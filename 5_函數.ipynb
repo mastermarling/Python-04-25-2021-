{
  "nbformat": 4,
  "nbformat_minor": 0,
  "metadata": {
    "colab": {
      "name": "5_函數.ipynb",
      "provenance": [],
      "authorship_tag": "ABX9TyPv0RcLuNk//jWWSiQTK8Em",
      "include_colab_link": true
    },
    "kernelspec": {
      "name": "python3",
      "display_name": "Python 3"
    },
    "language_info": {
      "name": "python"
    }
  },
  "cells": [
    {
      "cell_type": "markdown",
      "metadata": {
        "id": "view-in-github",
        "colab_type": "text"
      },
      "source": [
        "<a href=\"https://colab.research.google.com/github/mastermarling/Python-04-25-2021-/blob/main/5_%E5%87%BD%E6%95%B8.ipynb\" target=\"_parent\"><img src=\"https://colab.research.google.com/assets/colab-badge.svg\" alt=\"Open In Colab\"/></a>"
      ]
    },
    {
      "cell_type": "markdown",
      "metadata": {
        "id": "B_1Ynx4bvpQV"
      },
      "source": [
        "# 學習大綱\n",
        "[1]函數\n",
        "\n",
        "[2]函式參數與回傳\n",
        "\n",
        "[3]變數的有效範圍(Scope)\n",
        "\n",
        "[4]各種函數技術\n",
        "\n",
        "   匿名函數\n",
        "\n",
        "   遞迴函數\n",
        "\n",
        "[5]Python內建函數==>Built-in Functions\n",
        "\n",
        "函式 == 函數 == Function\n",
        "# [1]函數開發初體驗\n",
        "\n"
      ]
    },
    {
      "cell_type": "code",
      "metadata": {
        "colab": {
          "base_uri": "https://localhost:8080/"
        },
        "id": "zcyxddwkvpFO",
        "outputId": "c7ef2494-20a3-4e77-faf7-9042f9baac89"
      },
      "source": [
        "def sum(i1, i2):\n",
        "    result = 0\n",
        "    for i in range(i1, i2):\n",
        "        result += i\n",
        "    return result\n",
        "\n",
        "def main():\n",
        "    print(\"Sum from 1 to 10 is\", sum(1, 11)) \n",
        "    print(\"Sum from 20 to 37 is\", sum(20, 38))\n",
        "    print(\"Sum from 35 to 49 is\", sum(35, 50))\n",
        "\n",
        "main() # Call the main function"
      ],
      "execution_count": 1,
      "outputs": [
        {
          "output_type": "stream",
          "text": [
            "Sum from 1 to 10 is 55\n",
            "Sum from 20 to 37 is 513\n",
            "Sum from 35 to 49 is 630\n"
          ],
          "name": "stdout"
        }
      ]
    },
    {
      "cell_type": "code",
      "metadata": {
        "colab": {
          "base_uri": "https://localhost:8080/"
        },
        "id": "Xx5JyBJQvlWP",
        "outputId": "372a39f0-d991-4774-80e0-8f41909369b5"
      },
      "source": [
        "#!/usr/bin/python\n",
        "# -*- coding: UTF-8 -*-\n",
        " \n",
        "def swap(a,b):\n",
        "    a,b = b,a\n",
        "    return (a,b)\n",
        " \n",
        "if __name__ == '__main__':\n",
        "    x = 10\n",
        "    y = 20\n",
        "    print('x = %d,y = %d' % (x,y))\n",
        "    x,y = swap(x,y)\n",
        "    print('x = %d,y = %d' % (x,y))"
      ],
      "execution_count": 2,
      "outputs": [
        {
          "output_type": "stream",
          "text": [
            "x = 10,y = 20\n",
            "x = 20,y = 10\n"
          ],
          "name": "stdout"
        }
      ]
    },
    {
      "cell_type": "markdown",
      "metadata": {
        "id": "lnHhVW4uv-m9"
      },
      "source": [
        "# [2]函式與回傳值\n"
      ]
    },
    {
      "cell_type": "code",
      "metadata": {
        "colab": {
          "base_uri": "https://localhost:8080/"
        },
        "id": "D2RJNZMiv784",
        "outputId": "f4d943c3-9994-4cd0-f354-ae2b55e5d5a6"
      },
      "source": [
        "#!/usr/bin/python \n",
        "# -*- coding: UTF-8 -*- \n",
        "\n",
        "def sort(number1, number2):\n",
        "    if number1 < number2:\n",
        "        return number1, number2\n",
        "    else:\n",
        "        return number2, number1\n",
        "\n",
        "num1, num2 = sort(31, 25)\n",
        "\n",
        "print(\"num1 is\", num1)\n",
        "print(\"num2 is\", num2)"
      ],
      "execution_count": 3,
      "outputs": [
        {
          "output_type": "stream",
          "text": [
            "num1 is 25\n",
            "num2 is 31\n"
          ],
          "name": "stdout"
        }
      ]
    },
    {
      "cell_type": "code",
      "metadata": {
        "colab": {
          "base_uri": "https://localhost:8080/"
        },
        "id": "3P4dc4NuwOC1",
        "outputId": "bfe830cc-6476-4ad4-d0e7-8f3cc2940f2d"
      },
      "source": [
        "def print_params_4(x, y, z=3, *pospar, **keypar): \n",
        "    print(x, y, z) \n",
        "    print(pospar) \n",
        "    print(keypar) \n",
        "\n",
        "print_params_4(1, 2, 4, 5, 6, 7, foo=1, bar=2)\n",
        "\n",
        "print_params_4(1, 2)"
      ],
      "execution_count": 4,
      "outputs": [
        {
          "output_type": "stream",
          "text": [
            "1 2 4\n",
            "(5, 6, 7)\n",
            "{'foo': 1, 'bar': 2}\n",
            "1 2 3\n",
            "()\n",
            "{}\n"
          ],
          "name": "stdout"
        }
      ]
    },
    {
      "cell_type": "code",
      "metadata": {
        "colab": {
          "base_uri": "https://localhost:8080/"
        },
        "id": "In73bvlVwQTs",
        "outputId": "a6e59e70-5cec-4a02-8c18-f0f34983eb04"
      },
      "source": [
        "def print_params_3(**params): \n",
        "    print(params) \n",
        "\n",
        "print_params_3(x=1, y=2, z=3) \n"
      ],
      "execution_count": 5,
      "outputs": [
        {
          "output_type": "stream",
          "text": [
            "{'x': 1, 'y': 2, 'z': 3}\n"
          ],
          "name": "stdout"
        }
      ]
    },
    {
      "cell_type": "markdown",
      "metadata": {
        "id": "AsvvNutbv-Be"
      },
      "source": [
        "# [3]變數的有效範圍\n",
        "變數的有效範圍(Scope)：變數在程式可參考的範圍。\n",
        "\n",
        "區域變數(local variable):宣告在函式內部的變數\n",
        "\n",
        "全域變數(global variables):宣告在所有函式外部的變數"
      ]
    },
    {
      "cell_type": "code",
      "metadata": {
        "colab": {
          "base_uri": "https://localhost:8080/"
        },
        "id": "GX9C0b5LwXtN",
        "outputId": "29250d86-9cdf-4c46-fd71-3d6c426b562a"
      },
      "source": [
        "x = 111\n",
        "\n",
        "def f1():\n",
        "    x = 222\n",
        "    print(x) \n",
        "\n",
        "f1()\n",
        "print(x)\n",
        "\n",
        "x = 1\n",
        "\n",
        "def increase():\n",
        "    global x\n",
        "    x =  x + 1\n",
        "    print(x) \n",
        "\n",
        "increase()\n",
        "print(x)\n",
        "increase()\n",
        "increase()\n",
        "print(x)"
      ],
      "execution_count": 7,
      "outputs": [
        {
          "output_type": "stream",
          "text": [
            "222\n",
            "111\n",
            "2\n",
            "2\n",
            "3\n",
            "4\n",
            "4\n"
          ],
          "name": "stdout"
        }
      ]
    },
    {
      "cell_type": "markdown",
      "metadata": {
        "id": "EVrt2CFvvoL_"
      },
      "source": [
        "# [4] 各種函數技術\n",
        "匿名函數==沒有函數名稱、臨時使用的小函數\n",
        "\n",
        "使用lambda 運算式來宣告匿名函數\n",
        "\n",
        "lambda 運算式只能包含一個運算式， 不允許複雜的語句，但運算式中可呼叫其他函數"
      ]
    },
    {
      "cell_type": "code",
      "metadata": {
        "colab": {
          "base_uri": "https://localhost:8080/"
        },
        "id": "I2RiFS8iwjvk",
        "outputId": "4ce80f00-772d-4775-9304-54feb615fb54"
      },
      "source": [
        "f1 = lambda x, y, z: x+2*y+3*z\n",
        "print(f1(2,3,1))"
      ],
      "execution_count": 8,
      "outputs": [
        {
          "output_type": "stream",
          "text": [
            "11\n"
          ],
          "name": "stdout"
        }
      ]
    },
    {
      "cell_type": "code",
      "metadata": {
        "colab": {
          "base_uri": "https://localhost:8080/"
        },
        "id": "iuID_9hYwoK0",
        "outputId": "f5b008bc-525b-4a41-8557-5fd134284589"
      },
      "source": [
        "def myfunc(m):\n",
        "    return m*m\n",
        "\n",
        "my_list = [1, 3, 5, 7, 9]\n",
        "\n",
        "## 使用python的map()\n",
        "\n",
        "map(lambda x:myfunc(x), my_list)"
      ],
      "execution_count": 10,
      "outputs": [
        {
          "output_type": "execute_result",
          "data": {
            "text/plain": [
              "<map at 0x7fa53957aed0>"
            ]
          },
          "metadata": {
            "tags": []
          },
          "execution_count": 10
        }
      ]
    },
    {
      "cell_type": "markdown",
      "metadata": {
        "id": "coUwMj14w1aF"
      },
      "source": [
        "# [4_2]遞迴函式 ==> recursive vs iterative(loop)\n",
        "遞迴 (Recursion)函式:在函式中會呼叫自己函式\n",
        "\n",
        "遞迴 (Recursion)與分治法(分而治之 Divide-and-conquer)\n",
        "\n",
        "分治法(分而治之)是重要的演算法典範 \n",
        "\n",
        " 把一個複雜的問題分成兩個或更多的相同或相似的子問題，直到最後子問題可以簡單的直接求解，\n",
        " \n",
        " 原問題的解即子問題的解的合併"
      ]
    },
    {
      "cell_type": "markdown",
      "metadata": {
        "id": "JNERpkO6xAF1"
      },
      "source": [
        "大部分程式語言(Pyhon| C| C++|C#|JAVA )都會教 遞迴函式,底下是常用來當作業\n",
        "\n",
        "[程式開發作業]費氏數列\n",
        "\n",
        "[程式開發作業]1+2+3+....+n\n",
        "\n",
        "[程式開發作業]n!\n",
        "\n",
        "[程式開發作業]x的n次方\n",
        "\n",
        "[程式開發作業]二項係數\n",
        "\n",
        "[程式開發作業][Ackermann函式]\n",
        "\n",
        "     (https://en.wikipedia.org/wiki/Ackermann_function)\n",
        "\n",
        "\n",
        "資料結構與演算法 ==> 例舉數例\n",
        "\n",
        "[程式開發作業]河內塔\n",
        "\n",
        "[程式開發作業]八皇后問題\n",
        "\n",
        "[程式開發作業]binary search二元搜尋法\n",
        "\n",
        "\n",
        "函式開發 使用recursive 遞迴技術\n",
        "\n",
        "函式開發 使用iterative(loop) 技術\n"
      ]
    },
    {
      "cell_type": "code",
      "metadata": {
        "colab": {
          "base_uri": "https://localhost:8080/"
        },
        "id": "dNrt0ZCVw6h7",
        "outputId": "829aa3cc-ac3b-4f92-e336-80d8b0c34952"
      },
      "source": [
        "def fib(n):\n",
        "    if n==1 or n==2:\n",
        "        return 1\n",
        "    return fib(n-1)+fib(n-2)\n",
        "\n",
        "print(fib(10))"
      ],
      "execution_count": 11,
      "outputs": [
        {
          "output_type": "stream",
          "text": [
            "55\n"
          ],
          "name": "stdout"
        }
      ]
    },
    {
      "cell_type": "code",
      "metadata": {
        "colab": {
          "base_uri": "https://localhost:8080/"
        },
        "id": "dVfhNo4axJ-V",
        "outputId": "eaf51ad8-4a68-4183-c30d-524bf06f2a5f"
      },
      "source": [
        "def fib(n):\n",
        "    a,b = 1,1\n",
        "    for i in range(n-1):\n",
        "        a,b = b,a+b\n",
        "    return a\n",
        " \n",
        "\n",
        "print(fib(10))"
      ],
      "execution_count": 12,
      "outputs": [
        {
          "output_type": "stream",
          "text": [
            "55\n"
          ],
          "name": "stdout"
        }
      ]
    },
    {
      "cell_type": "code",
      "metadata": {
        "colab": {
          "base_uri": "https://localhost:8080/"
        },
        "id": "mVz5-x_axPAk",
        "outputId": "06df84b9-458a-4a1d-ba78-373196aebd7e"
      },
      "source": [
        "def fib(x):\t\n",
        "\tglobal numFibCalls\n",
        "\tnumFibCalls += 1\n",
        "\t\n",
        "\tif x == 0 or x == 1:\n",
        "           return 1\n",
        "\telse:\n",
        "          return fib(x-1) + fib(x-2)\n",
        "\n",
        "def testFib(n):\n",
        "\tfor i in range(n+1):\n",
        "          global numFibCalls\n",
        "          numFibCalls = 0\n",
        "          print('fib of', i, '=', fib(i))\n",
        "          print('fib called', numFibCalls, 'times.')\n",
        "\n",
        "testFib(4)"
      ],
      "execution_count": 13,
      "outputs": [
        {
          "output_type": "stream",
          "text": [
            "fib of 0 = 1\n",
            "fib called 1 times.\n",
            "fib of 1 = 1\n",
            "fib called 1 times.\n",
            "fib of 2 = 2\n",
            "fib called 3 times.\n",
            "fib of 3 = 3\n",
            "fib called 5 times.\n",
            "fib of 4 = 5\n",
            "fib called 9 times.\n"
          ],
          "name": "stdout"
        }
      ]
    },
    {
      "cell_type": "markdown",
      "metadata": {
        "id": "T4mwnPGLxUnK"
      },
      "source": [
        "# [5]Python內建函數==>Built-in Functions:\n",
        "Python有許多內建函數\n",
        "\n",
        "請講師帶學生看看底下官方的文件\n",
        "\n",
        "https://docs.python.org/3.8/library/functions.html\n",
        "\n",
        "使用範例 ==> 請參考 https://www.programiz.com/python-programming/methods/built-in\n",
        "             看不懂的部分..以後再學  \n",
        "\n",
        "底下範例說明hex(x),oct(x),bin(x)內建函數的使用"
      ]
    },
    {
      "cell_type": "markdown",
      "metadata": {
        "id": "ruaZqdFwxe7N"
      },
      "source": [
        "十進位數字 轉 十六進位 ==> hex(255) hex(-42)\n",
        "\n",
        "十進位數字 轉 八進位 ==> oct(8)\n",
        "\n",
        "十進位數字 轉 二進位 ==> bin(3)\n",
        "\n",
        "二進位 轉 十進位數字 ==> 0b10 \n",
        "\n",
        "八進位 轉 十進位數字 ==> 0o10   0o10101110\n",
        "\n",
        "十六進位 轉 十進位數字 ==>0x10"
      ]
    }
  ]
}